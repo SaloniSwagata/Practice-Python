{
  "nbformat": 4,
  "nbformat_minor": 0,
  "metadata": {
    "colab": {
      "name": "Arrays.ipynb",
      "provenance": []
    },
    "kernelspec": {
      "name": "python3",
      "display_name": "Python 3"
    }
  },
  "cells": [
    {
      "cell_type": "markdown",
      "metadata": {
        "id": "-i6gE8BvNVWI"
      },
      "source": [
        "### **Implemented List(Array) Data Structure by using Dynamic Array Concepts and made from Scratch**"
      ]
    },
    {
      "cell_type": "code",
      "metadata": {
        "id": "-FONrGViNP6T"
      },
      "source": [
        "import ctypes"
      ],
      "execution_count": 2,
      "outputs": []
    },
    {
      "cell_type": "code",
      "metadata": {
        "id": "7hQ11ziQN2mu"
      },
      "source": [
        "class MyList:\r\n",
        "  def __init__(self):\r\n",
        "    self.capacity=1\r\n",
        "    self.n=0\r\n",
        "    self.A=self.__make_array(self.capacity)\r\n",
        "\r\n",
        "  #Length of array\r\n",
        "  def __len__(self):\r\n",
        "    return self.n\r\n",
        "\r\n",
        "  #For print\r\n",
        "  def __str__(self):\r\n",
        "    result=\"\"\r\n",
        "    for i in range(self.n):\r\n",
        "      result=result+ str(self.A[i]) +\",\"\r\n",
        "\r\n",
        "    return \"[\" + result[:-1] + \"]\"\r\n",
        "\r\n",
        "  #Indexing \r\n",
        "  def __getitem__(self,index):\r\n",
        "    if 0<=index<self.n:\r\n",
        "      return self.A[index]\r\n",
        "    return \"IndexError\"\r\n",
        "\r\n",
        "  #Clear the list\r\n",
        "  def clear(self):\r\n",
        "    self.capacity=1\r\n",
        "    self.n=0\r\n",
        "\r\n",
        "  #Finding an element in array\r\n",
        "  def find(self,item):\r\n",
        "    for i in range(self.n):\r\n",
        "      if self.A[i]==item:\r\n",
        "        return i\r\n",
        "\r\n",
        "    return \"Not Found\"\r\n",
        "\r\n",
        "  #Pop the item\r\n",
        "  def pop(self):\r\n",
        "    if self.n==0:\r\n",
        "      return \"Empty\"\r\n",
        "\r\n",
        "    print(self.A[self.n-1])\r\n",
        "    self.n-=1\r\n",
        "  \r\n",
        "  #Deleting an item\r\n",
        "  def __delitem__(self,index):\r\n",
        "    if 0<=index<self.n:\r\n",
        "      for i in range(index,self.n-1):\r\n",
        "        self.A[index]=self.A[index+1]\r\n",
        "      self.n-=1\r\n",
        "\r\n",
        "    else:\r\n",
        "      return \"Invalid Index\"\r\n",
        "\r\n",
        "  #Removing an item\r\n",
        "  def remove(self,item):\r\n",
        "    for i in range(self.n):\r\n",
        "      if self.A[i]==item:\r\n",
        "        return self.__delitem__(i)\r\n",
        "    return \"Not Found\"\r\n",
        "\r\n",
        "  #Appending an item\r\n",
        "  def append(self,item):\r\n",
        "    if self.n==self.capacity:\r\n",
        "      self.__resize(2*self.capacity)\r\n",
        "    self.A[self.n]=item\r\n",
        "    self.n+=1\r\n",
        "\r\n",
        "  #Inserting an item at particular position\r\n",
        "  def insert(self,item,pos):\r\n",
        "    if 0<=pos<self.n:\r\n",
        "      if self.n==self.capacity:\r\n",
        "        self.__resize(2*self.capacity)\r\n",
        "      for i in range(self.n,pos,-1):\r\n",
        "        self.A[i]=self.A[i-1]\r\n",
        "      self.A[pos]=item\r\n",
        "      self.n+=1\r\n",
        "    else:\r\n",
        "      return \"IndexError\"\r\n",
        "\r\n",
        "  def __make_array(self,capacity):\r\n",
        "    return (capacity * ctypes.py_object)()\r\n",
        "\r\n",
        "  def __resize(self,capacity):\r\n",
        "    B = self.__make_array(capacity)\r\n",
        "    self.capacity = capacity\r\n",
        "    for i in range(self.n):\r\n",
        "      B[i]= self.A[i]\r\n",
        "\r\n",
        "    self.A =B"
      ],
      "execution_count": 13,
      "outputs": []
    },
    {
      "cell_type": "code",
      "metadata": {
        "id": "PkoKLRB5WD6M"
      },
      "source": [
        "L=MyList()"
      ],
      "execution_count": 14,
      "outputs": []
    },
    {
      "cell_type": "code",
      "metadata": {
        "colab": {
          "base_uri": "https://localhost:8080/"
        },
        "id": "QnYYpiZNWKmL",
        "outputId": "72efd2fa-4ca5-4891-9555-7711076e8636"
      },
      "source": [
        "L.append(3)\r\n",
        "L.append(4)\r\n",
        "L.append(5)\r\n",
        "L.append(6)\r\n",
        "print(L)"
      ],
      "execution_count": 15,
      "outputs": [
        {
          "output_type": "stream",
          "text": [
            "[3,4,5,6]\n"
          ],
          "name": "stdout"
        }
      ]
    },
    {
      "cell_type": "code",
      "metadata": {
        "colab": {
          "base_uri": "https://localhost:8080/"
        },
        "id": "knNWdejsWRoG",
        "outputId": "d2585c14-84c9-4cca-f80c-530b3e86c380"
      },
      "source": [
        "L.pop()"
      ],
      "execution_count": 16,
      "outputs": [
        {
          "output_type": "stream",
          "text": [
            "6\n"
          ],
          "name": "stdout"
        }
      ]
    },
    {
      "cell_type": "code",
      "metadata": {
        "id": "Nrapme3qW0a4"
      },
      "source": [
        "L.insert(9,1)"
      ],
      "execution_count": 17,
      "outputs": []
    },
    {
      "cell_type": "code",
      "metadata": {
        "colab": {
          "base_uri": "https://localhost:8080/"
        },
        "id": "Tmo7sdbRW5bs",
        "outputId": "c2053d15-6976-49db-c2cc-bac10516c754"
      },
      "source": [
        "print(L)"
      ],
      "execution_count": 18,
      "outputs": [
        {
          "output_type": "stream",
          "text": [
            "[3,9,4,5]\n"
          ],
          "name": "stdout"
        }
      ]
    },
    {
      "cell_type": "code",
      "metadata": {
        "colab": {
          "base_uri": "https://localhost:8080/"
        },
        "id": "NFq28irGW62s",
        "outputId": "8d045359-81de-4b35-98e2-ebdf336cfb2d"
      },
      "source": [
        "L[1]"
      ],
      "execution_count": 19,
      "outputs": [
        {
          "output_type": "execute_result",
          "data": {
            "text/plain": [
              "9"
            ]
          },
          "metadata": {
            "tags": []
          },
          "execution_count": 19
        }
      ]
    },
    {
      "cell_type": "code",
      "metadata": {
        "id": "JTpnTYZLXKJh"
      },
      "source": [
        ""
      ],
      "execution_count": null,
      "outputs": []
    }
  ]
}