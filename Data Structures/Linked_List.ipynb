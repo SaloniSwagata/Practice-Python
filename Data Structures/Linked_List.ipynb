{
  "nbformat": 4,
  "nbformat_minor": 0,
  "metadata": {
    "colab": {
      "name": "Linked List.ipynb",
      "provenance": [],
      "collapsed_sections": []
    },
    "kernelspec": {
      "name": "python3",
      "display_name": "Python 3"
    }
  },
  "cells": [
    {
      "cell_type": "markdown",
      "metadata": {
        "id": "DzjV3Gq6w3Xh"
      },
      "source": [
        "## Created a linked list and performed various functionalities - \r\n",
        "- Creating a Node\r\n",
        "- Insert at head\r\n",
        "- Traversal\r\n",
        "- Insert at tail\r\n",
        "- Insert after value\r\n",
        "- delete at head\r\n",
        "- delete at tail\r\n",
        "- delete value\r\n",
        "- searching a value\r\n",
        "- replacing max value with new value\r\n",
        "- sum of all values at odd positions"
      ]
    },
    {
      "cell_type": "code",
      "metadata": {
        "id": "4H-xS1b1wzUx"
      },
      "source": [
        "#Creating node\r\n",
        "class Node:\r\n",
        "  def __init__(self,value):\r\n",
        "    self.data = value\r\n",
        "    self.next = None"
      ],
      "execution_count": 109,
      "outputs": []
    },
    {
      "cell_type": "code",
      "metadata": {
        "id": "P52ke9xcyTlO"
      },
      "source": [
        "class LL:\r\n",
        "  def __init__(self):\r\n",
        "    self.head=None\r\n",
        "\r\n",
        "  def insert_head(self,value):\r\n",
        "    new_node = Node(value)\r\n",
        "    new_node.next = self.head\r\n",
        "    self.head = new_node\r\n",
        "\r\n",
        "  def insert_tail(self,value):\r\n",
        "    temp = self.head\r\n",
        "    while temp.next!=None:\r\n",
        "      temp = temp.next\r\n",
        "    new_node = Node(value)\r\n",
        "    temp.next = new_node\r\n",
        "\r\n",
        "  def insert_after(self,after,value):\r\n",
        "    temp = self.head\r\n",
        "    while temp!=None:\r\n",
        "      if temp.data == after:\r\n",
        "        break\r\n",
        "      temp = temp.next\r\n",
        "    \r\n",
        "    if temp == None:\r\n",
        "      print(\"Not Found\")\r\n",
        "    else:\r\n",
        "      new_node = Node(value)\r\n",
        "      new_node.next = temp.next\r\n",
        "      temp.next = new_node\r\n",
        "\r\n",
        "  def delete_head(self):\r\n",
        "    if self.head == None:\r\n",
        "      print(\"Empty\")\r\n",
        "    else:\r\n",
        "      self.head = self.head.next\r\n",
        "\r\n",
        "  def delete_tail(self):\r\n",
        "    if self.head == None:\r\n",
        "      print(\"Empty\")\r\n",
        "\r\n",
        "    elif self.head.next == None:\r\n",
        "      self.delete_head()\r\n",
        "    \r\n",
        "    else:\r\n",
        "      temp = self.head\r\n",
        "      while temp.next.next != None:\r\n",
        "        temp = temp.next\r\n",
        "      temp.next = None\r\n",
        "\r\n",
        "  def remove(self,value):\r\n",
        "    if self.head == None:\r\n",
        "      print(\"Empty\")\r\n",
        "    \r\n",
        "    elif self.head.data == value:\r\n",
        "      self.delete_head()\r\n",
        "\r\n",
        "    else:\r\n",
        "      temp = self.head\r\n",
        "      while temp.next!=None:\r\n",
        "        if temp.next.data == value:\r\n",
        "          break\r\n",
        "        temp = temp.next\r\n",
        "      if temp.next == None:\r\n",
        "        print(\"Not Found\")\r\n",
        "      else:\r\n",
        "        temp.next = temp.next.next\r\n",
        "\r\n",
        "  def search(self,value):\r\n",
        "    temp = self.head\r\n",
        "    pos = 0\r\n",
        "    while temp!=None:\r\n",
        "      if temp.data == value:\r\n",
        "        print(pos)\r\n",
        "        break\r\n",
        "      temp = temp.next\r\n",
        "      pos+=1\r\n",
        "    if temp==None:\r\n",
        "      print(-1)\r\n",
        "\r\n",
        "\r\n",
        "  def traverse(self):\r\n",
        "    temp = self.head\r\n",
        "    while temp!=None:\r\n",
        "      print(temp.data, end=\" \")\r\n",
        "      temp=temp.next\r\n",
        "\r\n",
        "  def replace_max(self,value):\r\n",
        "    temp = self.head\r\n",
        "    if self.head == None:\r\n",
        "      print(\"Empty\")\r\n",
        "    else:\r\n",
        "      max_no = self.head\r\n",
        "      while temp!=None:\r\n",
        "        if temp.data>max_no.data:\r\n",
        "          max_no.data = temp.data\r\n",
        "        temp = temp.next\r\n",
        "      max_no.data = value\r\n",
        "\r\n",
        "  def odd_sum(self):\r\n",
        "    if self.head == None:\r\n",
        "      print(\"Empty\")\r\n",
        "    else:\r\n",
        "      pos = 0\r\n",
        "      temp = self.head\r\n",
        "      add = 0\r\n",
        "      while temp!=None:\r\n",
        "        if pos%2!=0:\r\n",
        "          add+=temp.data\r\n",
        "        pos+=1\r\n",
        "        temp=temp.next\r\n",
        "      print(\"Sum of values at odd positions {}\".format(add))\r\n",
        "  "
      ],
      "execution_count": 111,
      "outputs": []
    },
    {
      "cell_type": "code",
      "metadata": {
        "id": "YLrBlUzizxSh"
      },
      "source": [
        "L = LL()"
      ],
      "execution_count": 112,
      "outputs": []
    },
    {
      "cell_type": "code",
      "metadata": {
        "id": "I0a91-fvzz74"
      },
      "source": [
        "L.insert_head(5)\r\n",
        "L.insert_head(6)\r\n",
        "L.insert_head(7)\r\n",
        "L.insert_tail(3)\r\n",
        "L.insert_tail(4)"
      ],
      "execution_count": 113,
      "outputs": []
    },
    {
      "cell_type": "code",
      "metadata": {
        "colab": {
          "base_uri": "https://localhost:8080/"
        },
        "id": "Sot5tqgLz7wC",
        "outputId": "95329d93-11cf-4bb4-dc56-2f43b5914643"
      },
      "source": [
        "L.traverse()"
      ],
      "execution_count": 114,
      "outputs": [
        {
          "output_type": "stream",
          "text": [
            "7 6 5 3 4 "
          ],
          "name": "stdout"
        }
      ]
    },
    {
      "cell_type": "code",
      "metadata": {
        "colab": {
          "base_uri": "https://localhost:8080/"
        },
        "id": "4us8MhrWz91T",
        "outputId": "6030f612-ca6c-4999-c3ff-534fbc5c43d3"
      },
      "source": [
        "L.odd_sum()"
      ],
      "execution_count": 115,
      "outputs": [
        {
          "output_type": "stream",
          "text": [
            "Sum of values at odd positions 9\n"
          ],
          "name": "stdout"
        }
      ]
    },
    {
      "cell_type": "code",
      "metadata": {
        "id": "TpcNVFVQ3d-x"
      },
      "source": [
        "L.insert_after(7,3)"
      ],
      "execution_count": 25,
      "outputs": []
    },
    {
      "cell_type": "code",
      "metadata": {
        "id": "9VQ-vorx3hvy"
      },
      "source": [
        "L.insert_after(4,10)"
      ],
      "execution_count": 26,
      "outputs": []
    },
    {
      "cell_type": "code",
      "metadata": {
        "colab": {
          "base_uri": "https://localhost:8080/"
        },
        "id": "vO5nQSc93lJF",
        "outputId": "baf88493-150b-405a-b5b1-6b27920f5119"
      },
      "source": [
        "L.insert_after(12,11)"
      ],
      "execution_count": 27,
      "outputs": [
        {
          "output_type": "stream",
          "text": [
            "Not Found\n"
          ],
          "name": "stdout"
        }
      ]
    },
    {
      "cell_type": "code",
      "metadata": {
        "colab": {
          "base_uri": "https://localhost:8080/"
        },
        "id": "lpIR4eFG3n3V",
        "outputId": "79fde2c9-d8fc-4f95-ba31-b8680bba4333"
      },
      "source": [
        "L.traverse()"
      ],
      "execution_count": 28,
      "outputs": [
        {
          "output_type": "stream",
          "text": [
            "7 3 6 5 8 3 4 10 "
          ],
          "name": "stdout"
        }
      ]
    },
    {
      "cell_type": "code",
      "metadata": {
        "colab": {
          "base_uri": "https://localhost:8080/"
        },
        "id": "ofUgB92l3p_x",
        "outputId": "53cd84ce-1424-409b-f3ce-6ac9a03f828c"
      },
      "source": [
        "L.delete_head()"
      ],
      "execution_count": 41,
      "outputs": [
        {
          "output_type": "stream",
          "text": [
            "Empty\n"
          ],
          "name": "stdout"
        }
      ]
    },
    {
      "cell_type": "code",
      "metadata": {
        "id": "dRDWv2WR4HiN"
      },
      "source": [
        "L.delete_head()"
      ],
      "execution_count": 39,
      "outputs": []
    },
    {
      "cell_type": "code",
      "metadata": {
        "id": "1BF1Ycey4J13"
      },
      "source": [
        "L.traverse()"
      ],
      "execution_count": 40,
      "outputs": []
    },
    {
      "cell_type": "code",
      "metadata": {
        "id": "9kY7frNb4LzS"
      },
      "source": [
        ""
      ],
      "execution_count": null,
      "outputs": []
    }
  ]
}